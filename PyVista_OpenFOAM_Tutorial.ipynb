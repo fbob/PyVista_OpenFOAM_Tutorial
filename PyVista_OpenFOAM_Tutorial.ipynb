{
 "cells": [
  {
   "cell_type": "code",
   "execution_count": 1,
   "id": "68ba1b50",
   "metadata": {},
   "outputs": [],
   "source": [
    "import pyvista as pv\n",
    "import numpy as np\n",
    "import matplotlib.pyplot as plt\n",
    "import vtk as vtk"
   ]
  },
  {
   "cell_type": "code",
   "execution_count": 2,
   "id": "2e44844e",
   "metadata": {},
   "outputs": [],
   "source": [
    "%matplotlib widget"
   ]
  },
  {
   "cell_type": "markdown",
   "id": "49d40b70",
   "metadata": {},
   "source": [
    "# Try to load case with `pyvista.read`"
   ]
  },
  {
   "cell_type": "markdown",
   "id": "e1cd92c9",
   "metadata": {},
   "source": [
    "PyVista is smart enough to allow the load of an OpenFOAM case (`.foam` extension here)"
   ]
  },
  {
   "cell_type": "code",
   "execution_count": 3,
   "id": "18b72bf3",
   "metadata": {},
   "outputs": [],
   "source": [
    "# Import the OpenFOAM example case\n",
    "case = pv.read('./case.foam')"
   ]
  },
  {
   "cell_type": "code",
   "execution_count": 4,
   "id": "ca2b5a3d",
   "metadata": {},
   "outputs": [
    {
     "data": {
      "text/plain": [
       "['internalMesh']"
      ]
     },
     "execution_count": 4,
     "metadata": {},
     "output_type": "execute_result"
    }
   ],
   "source": [
    "case.keys()"
   ]
  },
  {
   "cell_type": "code",
   "execution_count": 5,
   "id": "a719636d",
   "metadata": {},
   "outputs": [],
   "source": [
    "mesh = case[0]"
   ]
  },
  {
   "cell_type": "code",
   "execution_count": 6,
   "id": "8a50eb57",
   "metadata": {},
   "outputs": [
    {
     "data": {
      "text/html": [
       "<table><tr><th>Header</th><th>Data Arrays</th></tr><tr><td>\n",
       "<table>\n",
       "<tr><th>UnstructuredGrid</th><th>Information</th></tr>\n",
       "<tr><td>N Cells</td><td>12225</td></tr>\n",
       "<tr><td>N Points</td><td>25012</td></tr>\n",
       "<tr><td>X Bounds</td><td>-2.060e-02, 2.900e-01</td></tr>\n",
       "<tr><td>Y Bounds</td><td>-2.540e-02, 2.540e-02</td></tr>\n",
       "<tr><td>Z Bounds</td><td>-5.000e-04, 5.000e-04</td></tr>\n",
       "<tr><td>N Arrays</td><td>10</td></tr>\n",
       "</table>\n",
       "\n",
       "</td><td>\n",
       "<table>\n",
       "<tr><th>Name</th><th>Field</th><th>Type</th><th>N Comp</th><th>Min</th><th>Max</th></tr>\n",
       "<tr><td><b>U</b></td><td>Points</td><td>float32</td><td>3</td><td>0.000e+00</td><td>1.000e+01</td></tr>\n",
       "<tr><td>epsilon</td><td>Points</td><td>float32</td><td>1</td><td>1.485e+01</td><td>1.485e+01</td></tr>\n",
       "<tr><td>k</td><td>Points</td><td>float32</td><td>1</td><td>3.750e-01</td><td>3.750e-01</td></tr>\n",
       "<tr><td>nut</td><td>Points</td><td>float32</td><td>1</td><td>0.000e+00</td><td>0.000e+00</td></tr>\n",
       "<tr><td>p</td><td>Points</td><td>float32</td><td>1</td><td>0.000e+00</td><td>0.000e+00</td></tr>\n",
       "<tr><td><b>U</b></td><td>Cells</td><td>float32</td><td>3</td><td>0.000e+00</td><td>0.000e+00</td></tr>\n",
       "<tr><td>epsilon</td><td>Cells</td><td>float32</td><td>1</td><td>1.485e+01</td><td>1.485e+01</td></tr>\n",
       "<tr><td>k</td><td>Cells</td><td>float32</td><td>1</td><td>3.750e-01</td><td>3.750e-01</td></tr>\n",
       "<tr><td>nut</td><td>Cells</td><td>float32</td><td>1</td><td>0.000e+00</td><td>0.000e+00</td></tr>\n",
       "<tr><td>p</td><td>Cells</td><td>float32</td><td>1</td><td>0.000e+00</td><td>0.000e+00</td></tr>\n",
       "</table>\n",
       "\n",
       "</td></tr> </table>"
      ],
      "text/plain": [
       "UnstructuredGrid (0x7fd7336eb040)\n",
       "  N Cells:\t12225\n",
       "  N Points:\t25012\n",
       "  X Bounds:\t-2.060e-02, 2.900e-01\n",
       "  Y Bounds:\t-2.540e-02, 2.540e-02\n",
       "  Z Bounds:\t-5.000e-04, 5.000e-04\n",
       "  N Arrays:\t10"
      ]
     },
     "execution_count": 6,
     "metadata": {},
     "output_type": "execute_result"
    }
   ],
   "source": [
    "mesh"
   ]
  },
  {
   "cell_type": "markdown",
   "id": "b23446f0",
   "metadata": {},
   "source": [
    "* It looks like the number of arrays is doubled here, there is 2 times the `Data Arrays` (don't know why)\n",
    "* It looks like the case is loaded for `time=0`, I don't know how to change the time value.\n",
    "\n",
    "Here is for example below the U field where it's 0 everywhere expect at the inlet which is the intial condtion at `time=0`."
   ]
  },
  {
   "cell_type": "code",
   "execution_count": 7,
   "id": "10245ed1",
   "metadata": {},
   "outputs": [
    {
     "data": {
      "application/vnd.jupyter.widget-view+json": {
       "model_id": "5c10d94acbeb40589b03d66baf25ac7a",
       "version_major": 2,
       "version_minor": 0
      },
      "text/plain": [
       "ViewInteractiveWidget(height=768, layout=Layout(height='auto', width='100%'), width=1024)"
      ]
     },
     "metadata": {},
     "output_type": "display_data"
    }
   ],
   "source": [
    "mesh.plot(scalars='U',cpos='xy')"
   ]
  },
  {
   "cell_type": "markdown",
   "id": "2d451878",
   "metadata": {},
   "source": [
    "# Load the case with `vtkOpenFOAMReader`"
   ]
  },
  {
   "cell_type": "code",
   "execution_count": 8,
   "id": "585d2ba0",
   "metadata": {},
   "outputs": [],
   "source": [
    "reader = vtk.vtkOpenFOAMReader()\n",
    "reader.SetFileName(\"case.foam\")\n",
    "reader.UpdateInformation()\n",
    "time_array = reader.GetTimeValues()\n",
    "reader.SetTimeValue(time_array.GetRange()[1])  # Set read time to latest time step\n",
    "reader.Update()\n",
    "multi_block = pv.wrap(reader.GetOutput())\n",
    "mesh = multi_block[0]"
   ]
  },
  {
   "cell_type": "markdown",
   "id": "0a295a61",
   "metadata": {},
   "source": [
    "## Let's make a simple contour plot"
   ]
  },
  {
   "cell_type": "markdown",
   "id": "99333fdc",
   "metadata": {},
   "source": [
    "Let's plot the $u_x$ component of the velocity field"
   ]
  },
  {
   "cell_type": "code",
   "execution_count": 9,
   "id": "6ab58321",
   "metadata": {},
   "outputs": [
    {
     "data": {
      "application/vnd.jupyter.widget-view+json": {
       "model_id": "e6850979066b40ab85d312d1fe70774c",
       "version_major": 2,
       "version_minor": 0
      },
      "text/plain": [
       "ViewInteractiveWidget(height=768, layout=Layout(height='auto', width='100%'), width=1024)"
      ]
     },
     "metadata": {},
     "output_type": "display_data"
    }
   ],
   "source": [
    "mesh.plot(scalars='U',component=0, cpos='xy')"
   ]
  },
  {
   "cell_type": "markdown",
   "id": "ae141347",
   "metadata": {},
   "source": [
    "## Let's use a different and more useful API"
   ]
  },
  {
   "cell_type": "markdown",
   "id": "1fadb514",
   "metadata": {},
   "source": [
    "### Show the mesh "
   ]
  },
  {
   "cell_type": "code",
   "execution_count": 10,
   "id": "e6079f85",
   "metadata": {},
   "outputs": [
    {
     "data": {
      "application/vnd.jupyter.widget-view+json": {
       "model_id": "9f57107ab03244ecaab5f821ef06c391",
       "version_major": 2,
       "version_minor": 0
      },
      "text/plain": [
       "ViewInteractiveWidget(height=768, layout=Layout(height='auto', width='100%'), width=1024)"
      ]
     },
     "metadata": {},
     "output_type": "display_data"
    }
   ],
   "source": [
    "# Create a plotting object to display vtk meshes or numpy arrays\n",
    "p1 = pv.Plotter()\n",
    "# Show the mesh in wireframe style\n",
    "p1.add_mesh(mesh, style=\"wireframe\", color=\"w\")\n",
    "# View in the xy plane\n",
    "p1.view_xy()\n",
    "# Show the axes\n",
    "p1.add_axes()\n",
    "# Display the plotting window\n",
    "p1.show()"
   ]
  },
  {
   "cell_type": "markdown",
   "id": "591771af",
   "metadata": {},
   "source": [
    "### An example with a field contour"
   ]
  },
  {
   "cell_type": "code",
   "execution_count": 11,
   "id": "aea4902d",
   "metadata": {
    "scrolled": false
   },
   "outputs": [
    {
     "data": {
      "application/vnd.jupyter.widget-view+json": {
       "model_id": "796bd06101f749fc9e781e20b473c004",
       "version_major": 2,
       "version_minor": 0
      },
      "text/plain": [
       "ViewInteractiveWidget(height=768, layout=Layout(height='auto', width='100%'), width=1024)"
      ]
     },
     "metadata": {},
     "output_type": "display_data"
    }
   ],
   "source": [
    "p2 = pv.Plotter()\n",
    "p2.add_mesh(mesh,scalars='U')\n",
    "p2.view_xy()\n",
    "p2.add_axes()\n",
    "p2.show()"
   ]
  },
  {
   "cell_type": "markdown",
   "id": "b4d3d47b",
   "metadata": {},
   "source": [
    " "
   ]
  },
  {
   "cell_type": "markdown",
   "id": "c68f5361",
   "metadata": {},
   "source": [
    "### Another one with the mesh surimposed"
   ]
  },
  {
   "cell_type": "code",
   "execution_count": 12,
   "id": "6b63e5f4",
   "metadata": {
    "scrolled": false
   },
   "outputs": [
    {
     "data": {
      "application/vnd.jupyter.widget-view+json": {
       "model_id": "02538122f79848f59eb0e2e9b10be37a",
       "version_major": 2,
       "version_minor": 0
      },
      "text/plain": [
       "ViewInteractiveWidget(height=768, layout=Layout(height='auto', width='100%'), width=1024)"
      ]
     },
     "metadata": {},
     "output_type": "display_data"
    }
   ],
   "source": [
    "p3 = pv.Plotter()\n",
    "p3.add_mesh(mesh,scalars='U', show_edges=True)\n",
    "p3.view_xy()\n",
    "p3.add_axes()\n",
    "p3.show()"
   ]
  },
  {
   "cell_type": "markdown",
   "id": "a37dd61e",
   "metadata": {},
   "source": [
    "### Plot over line example"
   ]
  },
  {
   "cell_type": "code",
   "execution_count": 13,
   "id": "e054e90b",
   "metadata": {},
   "outputs": [],
   "source": [
    "# Create the 2 points defining the line\n",
    "a = [0, 0, 0]\n",
    "b = [0, mesh.bounds[3], 0]\n",
    "\n",
    "# Create a Line object\n",
    "line = pv.Line(a, b)"
   ]
  },
  {
   "cell_type": "markdown",
   "id": "bc9ecfa6",
   "metadata": {},
   "source": [
    "Let's show the line in the computational domain"
   ]
  },
  {
   "cell_type": "code",
   "execution_count": 14,
   "id": "1d738871",
   "metadata": {},
   "outputs": [
    {
     "data": {
      "application/vnd.jupyter.widget-view+json": {
       "model_id": "3e86049128bc4f0885c4b56d972238f0",
       "version_major": 2,
       "version_minor": 0
      },
      "text/plain": [
       "ViewInteractiveWidget(height=768, layout=Layout(height='auto', width='100%'), width=1024)"
      ]
     },
     "metadata": {},
     "output_type": "display_data"
    }
   ],
   "source": [
    "p4 = pv.Plotter()\n",
    "p4.add_mesh(mesh, style=\"wireframe\", color='white')\n",
    "# Show the line in red in the domain\n",
    "p4.add_mesh(line, color=\"r\", line_width=10)\n",
    "p4.view_xy()\n",
    "p4.add_axes()\n",
    "p4.show()"
   ]
  },
  {
   "cell_type": "markdown",
   "id": "7ffe5aec",
   "metadata": {},
   "source": [
    "Let's make a plot overline ..."
   ]
  },
  {
   "cell_type": "code",
   "execution_count": 15,
   "id": "5b803bf2",
   "metadata": {},
   "outputs": [
    {
     "data": {
      "application/vnd.jupyter.widget-view+json": {
       "model_id": "52b8d3c92c2748fda2b3802b85b4f828",
       "version_major": 2,
       "version_minor": 0
      },
      "text/plain": [
       "Canvas(toolbar=Toolbar(toolitems=[('Home', 'Reset original view', 'home', 'home'), ('Back', 'Back to previous …"
      ]
     },
     "metadata": {},
     "output_type": "display_data"
    }
   ],
   "source": [
    "mesh.plot_over_line(a, b, resolution=100, scalars='U')"
   ]
  },
  {
   "cell_type": "markdown",
   "id": "1e05f84d",
   "metadata": {},
   "source": [
    "### How to access the vector components"
   ]
  },
  {
   "cell_type": "markdown",
   "id": "e4e0fe49",
   "metadata": {},
   "source": [
    "List the available arrays "
   ]
  },
  {
   "cell_type": "code",
   "execution_count": 16,
   "id": "b79c3855",
   "metadata": {},
   "outputs": [
    {
     "data": {
      "text/plain": [
       "pyvista DataSetAttributes\n",
       "Association: CELL\n",
       "Contains keys:\n",
       "\tU\n",
       "\tepsilon\n",
       "\tk\n",
       "\tnut\n",
       "\tp"
      ]
     },
     "execution_count": 16,
     "metadata": {},
     "output_type": "execute_result"
    }
   ],
   "source": [
    "mesh.cell_arrays"
   ]
  },
  {
   "cell_type": "markdown",
   "id": "57294eb4",
   "metadata": {},
   "source": [
    "Let's put the velocity vector field in `U`"
   ]
  },
  {
   "cell_type": "code",
   "execution_count": 17,
   "id": "ca651ab7",
   "metadata": {},
   "outputs": [
    {
     "data": {
      "text/plain": [
       "(12225, 3)"
      ]
     },
     "execution_count": 17,
     "metadata": {},
     "output_type": "execute_result"
    }
   ],
   "source": [
    "U = mesh.cell_arrays[0]\n",
    "np.shape(U)"
   ]
  },
  {
   "cell_type": "markdown",
   "id": "4fafae77",
   "metadata": {},
   "source": [
    "Put each component in numpy arrays"
   ]
  },
  {
   "cell_type": "code",
   "execution_count": 18,
   "id": "91815885",
   "metadata": {},
   "outputs": [],
   "source": [
    "ux = U[:,0]\n",
    "uy = U[:,1]\n",
    "uz = U[:,2]\n",
    "\n",
    "# One can also use\n",
    "ux = mesh['U'][:,0]\n",
    "uy = mesh['U'][:,1]\n",
    "uz = mesh['U'][:,2]"
   ]
  },
  {
   "cell_type": "code",
   "execution_count": 19,
   "id": "4a7a9238",
   "metadata": {},
   "outputs": [],
   "source": [
    "mesh.cell_arrays[\"ux\"] = ux\n",
    "mesh.cell_arrays[\"uy\"] = uy\n",
    "mesh.cell_arrays[\"uz\"] = uz"
   ]
  },
  {
   "cell_type": "code",
   "execution_count": 20,
   "id": "4f970005",
   "metadata": {},
   "outputs": [
    {
     "data": {
      "application/vnd.jupyter.widget-view+json": {
       "model_id": "2ecca985143042aab7d3ea855d7cd767",
       "version_major": 2,
       "version_minor": 0
      },
      "text/plain": [
       "Canvas(toolbar=Toolbar(toolitems=[('Home', 'Reset original view', 'home', 'home'), ('Back', 'Back to previous …"
      ]
     },
     "metadata": {},
     "output_type": "display_data"
    }
   ],
   "source": [
    "mesh.plot_over_line(a, b, resolution=50, scalars='ux')"
   ]
  },
  {
   "cell_type": "markdown",
   "id": "7f873b13",
   "metadata": {},
   "source": [
    "### Plot a scalar over a circular arc"
   ]
  },
  {
   "cell_type": "code",
   "execution_count": 21,
   "id": "64732889",
   "metadata": {},
   "outputs": [
    {
     "data": {
      "application/vnd.jupyter.widget-view+json": {
       "model_id": "aeeefa55dc1a4c7595641f7d1e0afe82",
       "version_major": 2,
       "version_minor": 0
      },
      "text/plain": [
       "ViewInteractiveWidget(height=768, layout=Layout(height='auto', width='100%'), width=1024)"
      ]
     },
     "metadata": {},
     "output_type": "display_data"
    }
   ],
   "source": [
    "# Make two points at the bounds of the mesh and one at the center to\n",
    "# construct a circular arc.\n",
    "normal = [0, 0, 1]\n",
    "polar = [0.02, 0, 0]\n",
    "center = [0, 0, 0]\n",
    "angle = 100.0\n",
    "\n",
    "# Preview how this circular arc intersects this mesh\n",
    "arc = pv.CircularArcFromNormal(center, 100, normal, polar, angle)\n",
    "\n",
    "p = pv.Plotter()\n",
    "p.add_mesh(mesh, style=\"wireframe\", color=\"w\")\n",
    "p.add_mesh(arc, color=\"r\")\n",
    "a = arc.points[0]\n",
    "b = arc.points[-1]\n",
    "p.add_point_labels(\n",
    "    [a, b], [\"A\", \"B\"], font_size=48, point_color=\"red\", text_color=\"red\"\n",
    ")\n",
    "p.view_xy()\n",
    "p.show()\n"
   ]
  },
  {
   "cell_type": "markdown",
   "id": "ceb912d4",
   "metadata": {},
   "source": [
    "Let's see what's in the arc object."
   ]
  },
  {
   "cell_type": "code",
   "execution_count": 22,
   "id": "73ec6ab9",
   "metadata": {},
   "outputs": [
    {
     "data": {
      "text/html": [
       "<table><tr><th>Header</th><th>Data Arrays</th></tr><tr><td>\n",
       "<table>\n",
       "<tr><th>PolyData</th><th>Information</th></tr>\n",
       "<tr><td>N Cells</td><td>1</td></tr>\n",
       "<tr><td>N Points</td><td>101</td></tr>\n",
       "<tr><td>X Bounds</td><td>-3.473e-03, 2.000e-02</td></tr>\n",
       "<tr><td>Y Bounds</td><td>0.000e+00, 2.000e-02</td></tr>\n",
       "<tr><td>Z Bounds</td><td>0.000e+00, 0.000e+00</td></tr>\n",
       "<tr><td>N Arrays</td><td>2</td></tr>\n",
       "</table>\n",
       "\n",
       "</td><td>\n",
       "<table>\n",
       "<tr><th>Name</th><th>Field</th><th>Type</th><th>N Comp</th><th>Min</th><th>Max</th></tr>\n",
       "<tr><td><b>Texture Coordinates</b></td><td>Points</td><td>float32</td><td>2</td><td>0.000e+00</td><td>1.000e+00</td></tr>\n",
       "<tr><td>Distance</td><td>Points</td><td>float64</td><td>1</td><td>0.000e+00</td><td>3.491e-02</td></tr>\n",
       "</table>\n",
       "\n",
       "</td></tr> </table>"
      ],
      "text/plain": [
       "PolyData (0x7fd75d737400)\n",
       "  N Cells:\t1\n",
       "  N Points:\t101\n",
       "  X Bounds:\t-3.473e-03, 2.000e-02\n",
       "  Y Bounds:\t0.000e+00, 2.000e-02\n",
       "  Z Bounds:\t0.000e+00, 0.000e+00\n",
       "  N Arrays:\t2"
      ]
     },
     "execution_count": 22,
     "metadata": {},
     "output_type": "execute_result"
    }
   ],
   "source": [
    "arc"
   ]
  },
  {
   "cell_type": "markdown",
   "id": "7e7bcbfc",
   "metadata": {},
   "source": [
    "I don't know how to add another plot on the same figure, it's perhaps only possible to plot one scalar or one vector at a time with this API."
   ]
  },
  {
   "cell_type": "code",
   "execution_count": 23,
   "id": "22a11238",
   "metadata": {},
   "outputs": [
    {
     "data": {
      "application/vnd.jupyter.widget-view+json": {
       "model_id": "e2e6f3b0e3a24f6d92ada627cfc51a7a",
       "version_major": 2,
       "version_minor": 0
      },
      "text/plain": [
       "Canvas(toolbar=Toolbar(toolitems=[('Home', 'Reset original view', 'home', 'home'), ('Back', 'Back to previous …"
      ]
     },
     "metadata": {},
     "output_type": "display_data"
    }
   ],
   "source": [
    "mesh.plot_over_circular_arc_normal(center, 100, normal, polar, angle,scalars='ux')\n",
    "#mesh.plot_over_circular_arc_normal(center, 100, normal, polar, angle, scalars='uy')"
   ]
  },
  {
   "cell_type": "markdown",
   "id": "f3ae3023",
   "metadata": {},
   "source": [
    "So let's try another way and create the figure ourself (there may be better ways to do this by the way)."
   ]
  },
  {
   "cell_type": "code",
   "execution_count": 24,
   "id": "acad46eb",
   "metadata": {},
   "outputs": [],
   "source": [
    "sampled = pv.DataSetFilters.sample_over_circular_arc_normal(mesh,\n",
    "                                                         center,\n",
    "                                                         100,\n",
    "                                                         normal,\n",
    "                                                         polar,\n",
    "                                                         angle,\n",
    "                                                         )\n"
   ]
  },
  {
   "cell_type": "code",
   "execution_count": 25,
   "id": "2f375d86",
   "metadata": {},
   "outputs": [
    {
     "data": {
      "application/vnd.jupyter.widget-view+json": {
       "model_id": "2dcd00c409894fdaa6e9e841dd360161",
       "version_major": 2,
       "version_minor": 0
      },
      "text/plain": [
       "Canvas(toolbar=Toolbar(toolitems=[('Home', 'Reset original view', 'home', 'home'), ('Back', 'Back to previous …"
      ]
     },
     "metadata": {},
     "output_type": "display_data"
    }
   ],
   "source": [
    "plt.figure()\n",
    "plt.plot(sampled['Distance'],sampled['ux'],label='$u_x$')\n",
    "plt.plot(sampled['Distance'],sampled['uy'],label='$u_x$')\n",
    "plt.xlabel('Arc distance')\n",
    "plt.ylabel('Velocity')\n",
    "plt.title('Distribution of the velocity components along the arc')\n",
    "plt.grid(linestyle='dotted')\n",
    "plt.legend()\n",
    "plt.show()"
   ]
  }
 ],
 "metadata": {
  "kernelspec": {
   "display_name": "Python 3",
   "language": "python",
   "name": "python3"
  },
  "language_info": {
   "codemirror_mode": {
    "name": "ipython",
    "version": 3
   },
   "file_extension": ".py",
   "mimetype": "text/x-python",
   "name": "python",
   "nbconvert_exporter": "python",
   "pygments_lexer": "ipython3",
   "version": "3.9.5"
  }
 },
 "nbformat": 4,
 "nbformat_minor": 5
}
