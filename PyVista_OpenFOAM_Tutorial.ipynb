{
 "cells": [
  {
   "cell_type": "code",
   "execution_count": 1,
   "id": "68ba1b50",
   "metadata": {},
   "outputs": [],
   "source": [
    "import pyvista as pv\n",
    "import numpy as np\n",
    "import matplotlib.pyplot as plt\n",
    "import vtk as vtk"
   ]
  },
  {
   "cell_type": "code",
   "execution_count": 2,
   "id": "2e44844e",
   "metadata": {},
   "outputs": [],
   "source": [
    "%matplotlib widget"
   ]
  },
  {
   "cell_type": "markdown",
   "id": "49d40b70",
   "metadata": {},
   "source": [
    "# Try to load case with `pyvista.read`"
   ]
  },
  {
   "cell_type": "code",
   "execution_count": 3,
   "id": "18b72bf3",
   "metadata": {},
   "outputs": [],
   "source": [
    "# Import the OpenFOAM example case\n",
    "case = pv.read('./case.foam')"
   ]
  },
  {
   "cell_type": "code",
   "execution_count": 4,
   "id": "a719636d",
   "metadata": {},
   "outputs": [],
   "source": [
    "mesh = case[0]"
   ]
  },
  {
   "cell_type": "code",
   "execution_count": 5,
   "id": "8a50eb57",
   "metadata": {},
   "outputs": [
    {
     "data": {
      "text/html": [
       "<table><tr><th>Header</th><th>Data Arrays</th></tr><tr><td>\n",
       "<table>\n",
       "<tr><th>UnstructuredGrid</th><th>Information</th></tr>\n",
       "<tr><td>N Cells</td><td>12225</td></tr>\n",
       "<tr><td>N Points</td><td>25012</td></tr>\n",
       "<tr><td>X Bounds</td><td>-2.060e-02, 2.900e-01</td></tr>\n",
       "<tr><td>Y Bounds</td><td>-2.540e-02, 2.540e-02</td></tr>\n",
       "<tr><td>Z Bounds</td><td>-5.000e-04, 5.000e-04</td></tr>\n",
       "<tr><td>N Arrays</td><td>26</td></tr>\n",
       "</table>\n",
       "\n",
       "</td><td>\n",
       "<table>\n",
       "<tr><th>Name</th><th>Field</th><th>Type</th><th>N Comp</th><th>Min</th><th>Max</th></tr>\n",
       "<tr><td><b>C</b></td><td>Points</td><td>float32</td><td>3</td><td>-2.540e-02</td><td>2.900e-01</td></tr>\n",
       "<tr><td>Cx</td><td>Points</td><td>float32</td><td>1</td><td>-2.060e-02</td><td>2.900e-01</td></tr>\n",
       "<tr><td>Cy</td><td>Points</td><td>float32</td><td>1</td><td>-2.540e-02</td><td>2.540e-02</td></tr>\n",
       "<tr><td>Cz</td><td>Points</td><td>float32</td><td>1</td><td>-4.313e-20</td><td>5.252e-20</td></tr>\n",
       "<tr><td>U</td><td>Points</td><td>float32</td><td>3</td><td>0.000e+00</td><td>1.000e+01</td></tr>\n",
       "<tr><td>epsilon</td><td>Points</td><td>float32</td><td>1</td><td>1.485e+01</td><td>1.485e+01</td></tr>\n",
       "<tr><td>k</td><td>Points</td><td>float32</td><td>1</td><td>3.750e-01</td><td>3.750e-01</td></tr>\n",
       "<tr><td>nuTilda</td><td>Points</td><td>float32</td><td>1</td><td>0.000e+00</td><td>0.000e+00</td></tr>\n",
       "<tr><td>nut</td><td>Points</td><td>float32</td><td>1</td><td>0.000e+00</td><td>0.000e+00</td></tr>\n",
       "<tr><td>omega</td><td>Points</td><td>float32</td><td>1</td><td>4.401e+02</td><td>4.401e+02</td></tr>\n",
       "<tr><td>p</td><td>Points</td><td>float32</td><td>1</td><td>0.000e+00</td><td>0.000e+00</td></tr>\n",
       "<tr><td>v2</td><td>Points</td><td>float32</td><td>1</td><td>0.000e+00</td><td>0.000e+00</td></tr>\n",
       "<tr><td>wallShearStress</td><td>Points</td><td>float32</td><td>3</td><td>-2.106e-02</td><td>2.106e-02</td></tr>\n",
       "<tr><td><b>C</b></td><td>Cells</td><td>float32</td><td>3</td><td>-2.493e-02</td><td>2.874e-01</td></tr>\n",
       "<tr><td>Cx</td><td>Cells</td><td>float32</td><td>1</td><td>-1.981e-02</td><td>2.874e-01</td></tr>\n",
       "<tr><td>Cy</td><td>Cells</td><td>float32</td><td>1</td><td>-2.493e-02</td><td>2.525e-02</td></tr>\n",
       "<tr><td>Cz</td><td>Cells</td><td>float32</td><td>1</td><td>-7.640e-20</td><td>8.296e-20</td></tr>\n",
       "<tr><td>U</td><td>Cells</td><td>float32</td><td>3</td><td>0.000e+00</td><td>0.000e+00</td></tr>\n",
       "<tr><td>epsilon</td><td>Cells</td><td>float32</td><td>1</td><td>1.485e+01</td><td>1.485e+01</td></tr>\n",
       "<tr><td>k</td><td>Cells</td><td>float32</td><td>1</td><td>3.750e-01</td><td>3.750e-01</td></tr>\n",
       "<tr><td>nuTilda</td><td>Cells</td><td>float32</td><td>1</td><td>0.000e+00</td><td>0.000e+00</td></tr>\n",
       "<tr><td>nut</td><td>Cells</td><td>float32</td><td>1</td><td>0.000e+00</td><td>0.000e+00</td></tr>\n",
       "<tr><td>omega</td><td>Cells</td><td>float32</td><td>1</td><td>4.401e+02</td><td>4.401e+02</td></tr>\n",
       "<tr><td>p</td><td>Cells</td><td>float32</td><td>1</td><td>0.000e+00</td><td>0.000e+00</td></tr>\n",
       "<tr><td>v2</td><td>Cells</td><td>float32</td><td>1</td><td>0.000e+00</td><td>0.000e+00</td></tr>\n",
       "<tr><td>wallShearStress</td><td>Cells</td><td>float32</td><td>3</td><td>0.000e+00</td><td>0.000e+00</td></tr>\n",
       "</table>\n",
       "\n",
       "</td></tr> </table>"
      ],
      "text/plain": [
       "UnstructuredGrid (0x7fb63aff66a0)\n",
       "  N Cells:\t12225\n",
       "  N Points:\t25012\n",
       "  X Bounds:\t-2.060e-02, 2.900e-01\n",
       "  Y Bounds:\t-2.540e-02, 2.540e-02\n",
       "  Z Bounds:\t-5.000e-04, 5.000e-04\n",
       "  N Arrays:\t26"
      ]
     },
     "execution_count": 5,
     "metadata": {},
     "output_type": "execute_result"
    }
   ],
   "source": [
    "mesh"
   ]
  },
  {
   "cell_type": "markdown",
   "id": "b23446f0",
   "metadata": {},
   "source": [
    "It looks like the cas is loaded for `time=0`, I don't know how to change the time value.\n",
    "\n",
    "Here is for example below the U field where it's 0 everywhere expect at the inlet."
   ]
  },
  {
   "cell_type": "code",
   "execution_count": 6,
   "id": "10245ed1",
   "metadata": {},
   "outputs": [
    {
     "data": {
      "application/vnd.jupyter.widget-view+json": {
       "model_id": "cbaa9cda5e47442883e580c60bd01dec",
       "version_major": 2,
       "version_minor": 0
      },
      "text/plain": [
       "ViewInteractiveWidget(height=768, layout=Layout(height='auto', width='100%'), width=1024)"
      ]
     },
     "metadata": {},
     "output_type": "display_data"
    }
   ],
   "source": [
    "mesh.plot(scalars='U')"
   ]
  },
  {
   "cell_type": "markdown",
   "id": "2d451878",
   "metadata": {},
   "source": [
    "# Load the case with `vtkOpenFOAMReader`"
   ]
  },
  {
   "cell_type": "code",
   "execution_count": 7,
   "id": "585d2ba0",
   "metadata": {},
   "outputs": [],
   "source": [
    "reader = vtk.vtkOpenFOAMReader()\n",
    "reader.SetFileName(\"cyclone_test_02_without_bl.foam\")\n",
    "reader.UpdateInformation()\n",
    "time_array = reader.GetTimeValues()\n",
    "reader.SetTimeValue(time_array.GetRange()[1])  # Set read time to latest time step\n",
    "reader.Update()\n",
    "multi_block = pv.wrap(reader.GetOutput())\n",
    "mesh = multi_block[0]\n"
   ]
  },
  {
   "cell_type": "markdown",
   "id": "0a295a61",
   "metadata": {},
   "source": [
    "## Let's make a simple contour plot"
   ]
  },
  {
   "cell_type": "code",
   "execution_count": 8,
   "id": "6ab58321",
   "metadata": {},
   "outputs": [
    {
     "data": {
      "application/vnd.jupyter.widget-view+json": {
       "model_id": "8c6065f61b134ae9834f8fe7c8ed4792",
       "version_major": 2,
       "version_minor": 0
      },
      "text/plain": [
       "ViewInteractiveWidget(height=768, layout=Layout(height='auto', width='100%'), width=1024)"
      ]
     },
     "metadata": {},
     "output_type": "display_data"
    }
   ],
   "source": [
    "mesh.plot(scalars='U')"
   ]
  },
  {
   "cell_type": "markdown",
   "id": "ae141347",
   "metadata": {},
   "source": [
    "## Let's use a different and more useful API"
   ]
  },
  {
   "cell_type": "markdown",
   "id": "1fadb514",
   "metadata": {},
   "source": [
    "### Show the mesh "
   ]
  },
  {
   "cell_type": "code",
   "execution_count": 9,
   "id": "e6079f85",
   "metadata": {},
   "outputs": [
    {
     "data": {
      "application/vnd.jupyter.widget-view+json": {
       "model_id": "e29d0257b6944c9289002d92f3653620",
       "version_major": 2,
       "version_minor": 0
      },
      "text/plain": [
       "ViewInteractiveWidget(height=768, layout=Layout(height='auto', width='100%'), width=1024)"
      ]
     },
     "metadata": {},
     "output_type": "display_data"
    }
   ],
   "source": [
    "p1 = pv.Plotter()\n",
    "p1.add_mesh(mesh, style=\"wireframe\", color=\"w\")\n",
    "p1.view_xy()\n",
    "p1.add_axes()\n",
    "p1.show()"
   ]
  },
  {
   "cell_type": "markdown",
   "id": "591771af",
   "metadata": {},
   "source": [
    "### An example with a field contour"
   ]
  },
  {
   "cell_type": "code",
   "execution_count": 10,
   "id": "aea4902d",
   "metadata": {
    "scrolled": false
   },
   "outputs": [
    {
     "data": {
      "application/vnd.jupyter.widget-view+json": {
       "model_id": "f572e6d0cf27412ea055983ed1df48bb",
       "version_major": 2,
       "version_minor": 0
      },
      "text/plain": [
       "ViewInteractiveWidget(height=768, layout=Layout(height='auto', width='100%'), width=1024)"
      ]
     },
     "metadata": {},
     "output_type": "display_data"
    }
   ],
   "source": [
    "p2 = pv.Plotter()\n",
    "p2.add_mesh(mesh,scalars='U')\n",
    "p2.view_xy()\n",
    "p2.add_axes()\n",
    "p2.show()"
   ]
  },
  {
   "cell_type": "markdown",
   "id": "b4d3d47b",
   "metadata": {},
   "source": [
    " "
   ]
  },
  {
   "cell_type": "markdown",
   "id": "c68f5361",
   "metadata": {},
   "source": [
    "### Another one with the mesh surimposed"
   ]
  },
  {
   "cell_type": "code",
   "execution_count": 11,
   "id": "6b63e5f4",
   "metadata": {
    "scrolled": false
   },
   "outputs": [
    {
     "data": {
      "application/vnd.jupyter.widget-view+json": {
       "model_id": "772bdcdd701c4742a82abca8e66b386e",
       "version_major": 2,
       "version_minor": 0
      },
      "text/plain": [
       "ViewInteractiveWidget(height=768, layout=Layout(height='auto', width='100%'), width=1024)"
      ]
     },
     "metadata": {},
     "output_type": "display_data"
    }
   ],
   "source": [
    "p3 = pv.Plotter()\n",
    "p3.add_mesh(mesh,scalars='U', show_edges=True)\n",
    "p3.view_xy()\n",
    "p3.add_axes()\n",
    "p3.show()"
   ]
  },
  {
   "cell_type": "markdown",
   "id": "a37dd61e",
   "metadata": {},
   "source": [
    "### Plot over line example"
   ]
  },
  {
   "cell_type": "code",
   "execution_count": 12,
   "id": "1d738871",
   "metadata": {},
   "outputs": [
    {
     "data": {
      "application/vnd.jupyter.widget-view+json": {
       "model_id": "b10a35b10d53456594797330f9016975",
       "version_major": 2,
       "version_minor": 0
      },
      "text/plain": [
       "ViewInteractiveWidget(height=768, layout=Layout(height='auto', width='100%'), width=1024)"
      ]
     },
     "metadata": {},
     "output_type": "display_data"
    }
   ],
   "source": [
    "# Create the 2 points defining the line\n",
    "a = [0, 0, 0]\n",
    "b = [0, mesh.bounds[3], 0]\n",
    "\n",
    "# Show the line in red in the domain\n",
    "line = pv.Line(a, b)\n",
    "\n",
    "p4 = pv.Plotter()\n",
    "p4.view_xy()\n",
    "p4.add_mesh(mesh, style=\"wireframe\", color='white')\n",
    "p4.add_mesh(line, color=\"r\", line_width=10)\n",
    "p4.add_axes()\n",
    "\n",
    "p4.show()"
   ]
  },
  {
   "cell_type": "markdown",
   "id": "7ffe5aec",
   "metadata": {},
   "source": [
    "Let's make a plot overline ..."
   ]
  },
  {
   "cell_type": "code",
   "execution_count": 13,
   "id": "5b803bf2",
   "metadata": {},
   "outputs": [
    {
     "data": {
      "application/vnd.jupyter.widget-view+json": {
       "model_id": "07db969d849b4623951295257bca0e58",
       "version_major": 2,
       "version_minor": 0
      },
      "text/plain": [
       "Canvas(toolbar=Toolbar(toolitems=[('Home', 'Reset original view', 'home', 'home'), ('Back', 'Back to previous …"
      ]
     },
     "metadata": {},
     "output_type": "display_data"
    }
   ],
   "source": [
    "mesh.plot_over_line(a, b, resolution=100, scalars='U')"
   ]
  },
  {
   "cell_type": "markdown",
   "id": "1e05f84d",
   "metadata": {},
   "source": [
    "### How to access the vector components"
   ]
  },
  {
   "cell_type": "code",
   "execution_count": 14,
   "id": "b79c3855",
   "metadata": {},
   "outputs": [
    {
     "data": {
      "text/plain": [
       "pyvista DataSetAttributes\n",
       "Association: CELL\n",
       "Contains keys:\n",
       "\tU\n",
       "\tepsilon\n",
       "\tk\n",
       "\tnut\n",
       "\tp"
      ]
     },
     "execution_count": 14,
     "metadata": {},
     "output_type": "execute_result"
    }
   ],
   "source": [
    "mesh.cell_arrays"
   ]
  },
  {
   "cell_type": "code",
   "execution_count": 15,
   "id": "ca651ab7",
   "metadata": {},
   "outputs": [
    {
     "data": {
      "text/plain": [
       "(12225, 3)"
      ]
     },
     "execution_count": 15,
     "metadata": {},
     "output_type": "execute_result"
    }
   ],
   "source": [
    "U = mesh.cell_arrays[0]\n",
    "np.shape(U)"
   ]
  },
  {
   "cell_type": "code",
   "execution_count": 16,
   "id": "91815885",
   "metadata": {},
   "outputs": [],
   "source": [
    "ux = U[:,0]\n",
    "uy = U[:,1]\n",
    "uz = U[:,2]\n",
    "\n",
    "# One can also use\n",
    "ux = mesh['U'][:,0]\n",
    "uy = mesh['U'][:,1]\n",
    "uz = mesh['U'][:,2]"
   ]
  },
  {
   "cell_type": "code",
   "execution_count": 17,
   "id": "4f970005",
   "metadata": {},
   "outputs": [
    {
     "data": {
      "application/vnd.jupyter.widget-view+json": {
       "model_id": "decd7504a2e94b3782619c2f61796161",
       "version_major": 2,
       "version_minor": 0
      },
      "text/plain": [
       "Canvas(toolbar=Toolbar(toolitems=[('Home', 'Reset original view', 'home', 'home'), ('Back', 'Back to previous …"
      ]
     },
     "metadata": {},
     "output_type": "display_data"
    }
   ],
   "source": [
    "mesh.cell_arrays[\"ux\"] = ux\n",
    "mesh.plot_over_line(a, b, resolution=50, scalars='ux')"
   ]
  },
  {
   "cell_type": "markdown",
   "id": "7f873b13",
   "metadata": {},
   "source": [
    "### Plor scalar over a circular arc"
   ]
  },
  {
   "cell_type": "code",
   "execution_count": 30,
   "id": "64732889",
   "metadata": {},
   "outputs": [
    {
     "data": {
      "application/vnd.jupyter.widget-view+json": {
       "model_id": "bcc2081c18d24b16b008b969e49b3e58",
       "version_major": 2,
       "version_minor": 0
      },
      "text/plain": [
       "ViewInteractiveWidget(height=768, layout=Layout(height='auto', width='100%'), width=1024)"
      ]
     },
     "metadata": {},
     "output_type": "display_data"
    }
   ],
   "source": [
    "# Make two points at the bounds of the mesh and one at the center to\n",
    "# construct a circular arc.\n",
    "normal = [0, 0, 1]\n",
    "polar = [0.02, 0, 0]\n",
    "center = [0, 0, 0]\n",
    "angle = 100.0\n",
    "\n",
    "# Preview how this circular arc intersects this mesh\n",
    "arc = pv.CircularArcFromNormal(center, 100, normal, polar, angle)\n",
    "\n",
    "p = pv.Plotter()\n",
    "p.add_mesh(mesh, style=\"wireframe\", color=\"w\")\n",
    "p.add_mesh(arc, color=\"r\")\n",
    "a = arc.points[0]\n",
    "b = arc.points[-1]\n",
    "p.add_point_labels(\n",
    "    [a, b], [\"A\", \"B\"], font_size=48, point_color=\"red\", text_color=\"red\"\n",
    ")\n",
    "p.view_xy()\n",
    "p.show()\n"
   ]
  },
  {
   "cell_type": "code",
   "execution_count": 31,
   "id": "22a11238",
   "metadata": {},
   "outputs": [
    {
     "data": {
      "application/vnd.jupyter.widget-view+json": {
       "model_id": "76549b290afd4904943258bf536fced1",
       "version_major": 2,
       "version_minor": 0
      },
      "text/plain": [
       "Canvas(toolbar=Toolbar(toolitems=[('Home', 'Reset original view', 'home', 'home'), ('Back', 'Back to previous …"
      ]
     },
     "metadata": {},
     "output_type": "display_data"
    }
   ],
   "source": [
    "mesh.plot_over_circular_arc_normal(center, 100, normal, polar, angle, 'ux')"
   ]
  },
  {
   "cell_type": "code",
   "execution_count": null,
   "id": "e516399e",
   "metadata": {},
   "outputs": [],
   "source": []
  }
 ],
 "metadata": {
  "kernelspec": {
   "display_name": "Python 3",
   "language": "python",
   "name": "python3"
  },
  "language_info": {
   "codemirror_mode": {
    "name": "ipython",
    "version": 3
   },
   "file_extension": ".py",
   "mimetype": "text/x-python",
   "name": "python",
   "nbconvert_exporter": "python",
   "pygments_lexer": "ipython3",
   "version": "3.9.5"
  }
 },
 "nbformat": 4,
 "nbformat_minor": 5
}
